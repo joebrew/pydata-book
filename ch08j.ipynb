{
 "metadata": {
  "name": "",
  "signature": "sha256:ca7b1c1a672457e9683422cad8c9f8527116e543b1538f159ef0c4ab05bccff5"
 },
 "nbformat": 3,
 "nbformat_minor": 0,
 "worksheets": [
  {
   "cells": [
    {
     "cell_type": "code",
     "collapsed": false,
     "input": [],
     "language": "python",
     "metadata": {},
     "outputs": []
    }
   ],
   "metadata": {}
  }
 ]
}