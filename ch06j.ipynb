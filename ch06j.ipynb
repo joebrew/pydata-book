{
 "metadata": {
  "name": "",
  "signature": "sha256:908b7a2170d40bf04d6a498cb2fa35b868bacc84d48afffa7625ccc7e275ad17"
 },
 "nbformat": 3,
 "nbformat_minor": 0,
 "worksheets": [
  {
   "cells": [
    {
     "cell_type": "code",
     "collapsed": false,
     "input": [
      "##########################################\n",
      "# DATA LOADING, STORAGE, AND FILE FORMATS\n",
      "##########################################"
     ],
     "language": "python",
     "metadata": {},
     "outputs": [],
     "prompt_number": 1
    },
    {
     "cell_type": "code",
     "collapsed": false,
     "input": [
      "# Input and output usually consists of:\n",
      "# - reading text files and other on-disk formats\n",
      "# - loading from databases\n",
      "# - interacting w/ network sources like web APIs"
     ],
     "language": "python",
     "metadata": {},
     "outputs": [],
     "prompt_number": 2
    },
    {
     "cell_type": "code",
     "collapsed": false,
     "input": [
      "#####\n",
      "# READING AND WRITING DATA IN TEXT FORMAT\n",
      "#####\n",
      "# functions are:\n",
      "# read_csv \n",
      "# read_table (tab delimited)\n",
      "# read_fwf (fixed with)\n",
      "# read_clipboard \n",
      "\n",
      "# Options for these functions generally fall into a few categories:\n",
      "# indexing : what to use, and how to call it\n",
      "# type inference and data conversion: user-defined conversions, missing markers, etc.\n",
      "# datetime parsing: combine date and time info over multiple columns into a single column\n",
      "# iterating : for very large files\n",
      "# unclean data issues: skipping rows or a footer, comments, minor issues like numeric data separated by commas, etc."
     ],
     "language": "python",
     "metadata": {},
     "outputs": [],
     "prompt_number": 3
    },
    {
     "cell_type": "code",
     "collapsed": false,
     "input": [],
     "language": "python",
     "metadata": {},
     "outputs": []
    }
   ],
   "metadata": {}
  }
 ]
}