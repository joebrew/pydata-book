{
 "metadata": {
  "name": "",
  "signature": "sha256:32b0777eeb38d0cbf99ad9c66cfb5fbd1a2abef0e17972ae97a42b09929eac7f"
 },
 "nbformat": 3,
 "nbformat_minor": 0,
 "worksheets": []
}